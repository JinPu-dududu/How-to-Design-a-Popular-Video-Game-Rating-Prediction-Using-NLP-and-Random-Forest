{
 "cells": [
  {
   "cell_type": "code",
   "execution_count": 1,
   "metadata": {},
   "outputs": [
    {
     "data": {
      "text/plain": [
       "((98842, 12), (7869, 18), (4305, 108))"
      ]
     },
     "execution_count": 1,
     "metadata": {},
     "output_type": "execute_result"
    }
   ],
   "source": [
    "import pickle\n",
    "import numpy as np\n",
    "import pandas as pd\n",
    "import seaborn as sns\n",
    "import matplotlib.pyplot as plt\n",
    "import matplotlib\n",
    "%matplotlib inline\n",
    "with open('review_game.p', 'rb') as f:\n",
    "    review_game = pickle.load(f)\n",
    "with open('meta_game.p', 'rb') as f:\n",
    "    meta_game = pickle.load(f)\n",
    "with open('product_sentiment_new.p', 'rb') as f:\n",
    "    product_sentiment = pickle.load(f)\n",
    "review_game.shape,meta_game.shape,product_sentiment.shape"
   ]
  },
  {
   "cell_type": "code",
   "execution_count": 4,
   "metadata": {},
   "outputs": [
    {
     "data": {
      "text/plain": [
       "((2854,), (2833, 107))"
      ]
     },
     "execution_count": 4,
     "metadata": {},
     "output_type": "execute_result"
    }
   ],
   "source": [
    "# review>=5\n",
    "review_size = review_game.groupby('asin').size()\n",
    "has_many_review_ids = review_size[review_size>=5].index\n",
    "\n",
    "product_sentiment_clean = product_sentiment[product_sentiment['asin'].isin(has_many_review_ids)].copy()\n",
    "product_sentiment_clean.index = range(len(product_sentiment_clean))\n",
    "product_sentiment_clean.drop('sentimentJson2',axis=1,inplace=True)\n",
    "has_many_review_ids.shape,product_sentiment_clean.shape"
   ]
  },
  {
   "cell_type": "code",
   "execution_count": 5,
   "metadata": {},
   "outputs": [
    {
     "data": {
      "text/plain": [
       "(2854,)"
      ]
     },
     "execution_count": 5,
     "metadata": {},
     "output_type": "execute_result"
    }
   ],
   "source": [
    "# ratings\n",
    "review_game_clean = review_game[review_game['asin'].isin(has_many_review_ids)]\n",
    "ratings = review_game_clean.groupby('asin').mean()['overall']\n",
    "ratings.shape"
   ]
  },
  {
   "cell_type": "code",
   "execution_count": 6,
   "metadata": {},
   "outputs": [],
   "source": [
    "# price\n",
    "meta_game_clean = meta_game[['asin']].copy()\n",
    "meta_game_clean['true_price'] = meta_game['price'].apply(lambda x:''.join(x[1:].split(','))).astype('float')\n",
    "meta_game_clean = meta_game_clean[meta_game_clean['asin'].isin(has_many_review_ids)]\n",
    "meta_game_clean = meta_game_clean.groupby('asin').mean()['true_price'].reset_index()\n",
    "# decide whether to normalize\n",
    "meta_game_clean['true_price'] = (meta_game_clean['true_price'] - np.mean(meta_game_clean['true_price']))/np.std(meta_game_clean['true_price'])"
   ]
  },
  {
   "cell_type": "code",
   "execution_count": 13,
   "metadata": {},
   "outputs": [
    {
     "data": {
      "text/plain": [
       "(4.45945945945946, 2.450338600451467, (2833, 109))"
      ]
     },
     "execution_count": 13,
     "metadata": {},
     "output_type": "execute_result"
    },
    {
     "data": {
      "image/png": "[encoded data removed]",
      "text/plain": [
       "<Figure size 432x288 with 1 Axes>"
      ]
     },
     "metadata": {
      "needs_background": "light"
     },
     "output_type": "display_data"
    }
   ],
   "source": [
    "###### merge all into one dataset\n",
    "data_ = product_sentiment_clean.merge(meta_game_clean,on='asin')\n",
    "data = data_.merge(pd.DataFrame(ratings).reset_index(),on='asin')\n",
    "\n",
    "# fig,ax = plt.subplots(1,1,figsize=(12,6))\n",
    "# font = {'size': 10}\n",
    "# matplotlib.rc('font', **font)\n",
    "sns.distplot(data['overall'])\n",
    "np.percentile(data['overall'],75),sum(data['overall']<4.5)/sum(data['overall']>=4.4),data.shape"
   ]
  },
  {
   "cell_type": "code",
   "execution_count": 6,
   "metadata": {},
   "outputs": [
    {
     "data": {
      "text/html": [
       "<div>\n",
       "<style scoped>\n",
       "    .dataframe tbody tr th:only-of-type {\n",
       "        vertical-align: middle;\n",
       "    }\n",
       "\n",
       "    .dataframe tbody tr th {\n",
       "        vertical-align: top;\n",
       "    }\n",
       "\n",
       "    .dataframe thead th {\n",
       "        text-align: right;\n",
       "    }\n",
       "</style>\n",
       "<table border=\"1\" class=\"dataframe\">\n",
       "  <thead>\n",
       "    <tr style=\"text-align: right;\">\n",
       "      <th></th>\n",
       "      <th>new</th>\n",
       "      <th>different</th>\n",
       "      <th>old</th>\n",
       "      <th>older</th>\n",
       "      <th>original</th>\n",
       "      <th>real</th>\n",
       "      <th>realistic</th>\n",
       "      <th>classic</th>\n",
       "      <th>easy</th>\n",
       "      <th>mini</th>\n",
       "      <th>...</th>\n",
       "      <th>nintendo</th>\n",
       "      <th>gba</th>\n",
       "      <th>god of war</th>\n",
       "      <th>zelda</th>\n",
       "      <th>mech</th>\n",
       "      <th>sonic</th>\n",
       "      <th>golden sun</th>\n",
       "      <th>pokemon</th>\n",
       "      <th>true_price</th>\n",
       "      <th>rating</th>\n",
       "    </tr>\n",
       "    <tr>\n",
       "      <th>asin</th>\n",
       "      <th></th>\n",
       "      <th></th>\n",
       "      <th></th>\n",
       "      <th></th>\n",
       "      <th></th>\n",
       "      <th></th>\n",
       "      <th></th>\n",
       "      <th></th>\n",
       "      <th></th>\n",
       "      <th></th>\n",
       "      <th></th>\n",
       "      <th></th>\n",
       "      <th></th>\n",
       "      <th></th>\n",
       "      <th></th>\n",
       "      <th></th>\n",
       "      <th></th>\n",
       "      <th></th>\n",
       "      <th></th>\n",
       "      <th></th>\n",
       "      <th></th>\n",
       "    </tr>\n",
       "  </thead>\n",
       "  <tbody>\n",
       "    <tr>\n",
       "      <td>0700026657</td>\n",
       "      <td>0.365330</td>\n",
       "      <td>-0.405892</td>\n",
       "      <td>-0.372278</td>\n",
       "      <td>NaN</td>\n",
       "      <td>NaN</td>\n",
       "      <td>-0.380437</td>\n",
       "      <td>NaN</td>\n",
       "      <td>NaN</td>\n",
       "      <td>0.706482</td>\n",
       "      <td>NaN</td>\n",
       "      <td>...</td>\n",
       "      <td>NaN</td>\n",
       "      <td>NaN</td>\n",
       "      <td>NaN</td>\n",
       "      <td>NaN</td>\n",
       "      <td>NaN</td>\n",
       "      <td>NaN</td>\n",
       "      <td>NaN</td>\n",
       "      <td>NaN</td>\n",
       "      <td>-0.654826</td>\n",
       "      <td>0</td>\n",
       "    </tr>\n",
       "    <tr>\n",
       "      <td>1616616873</td>\n",
       "      <td>0.710812</td>\n",
       "      <td>NaN</td>\n",
       "      <td>-0.539911</td>\n",
       "      <td>NaN</td>\n",
       "      <td>NaN</td>\n",
       "      <td>-0.853276</td>\n",
       "      <td>NaN</td>\n",
       "      <td>NaN</td>\n",
       "      <td>NaN</td>\n",
       "      <td>NaN</td>\n",
       "      <td>...</td>\n",
       "      <td>NaN</td>\n",
       "      <td>NaN</td>\n",
       "      <td>NaN</td>\n",
       "      <td>NaN</td>\n",
       "      <td>NaN</td>\n",
       "      <td>NaN</td>\n",
       "      <td>NaN</td>\n",
       "      <td>NaN</td>\n",
       "      <td>-0.383553</td>\n",
       "      <td>1</td>\n",
       "    </tr>\n",
       "    <tr>\n",
       "      <td>B000003SQQ</td>\n",
       "      <td>0.414180</td>\n",
       "      <td>NaN</td>\n",
       "      <td>0.000000</td>\n",
       "      <td>0.771995</td>\n",
       "      <td>0.490134</td>\n",
       "      <td>NaN</td>\n",
       "      <td>NaN</td>\n",
       "      <td>NaN</td>\n",
       "      <td>0.812955</td>\n",
       "      <td>NaN</td>\n",
       "      <td>...</td>\n",
       "      <td>-0.465283</td>\n",
       "      <td>NaN</td>\n",
       "      <td>NaN</td>\n",
       "      <td>NaN</td>\n",
       "      <td>NaN</td>\n",
       "      <td>NaN</td>\n",
       "      <td>NaN</td>\n",
       "      <td>NaN</td>\n",
       "      <td>6.747643</td>\n",
       "      <td>0</td>\n",
       "    </tr>\n",
       "    <tr>\n",
       "      <td>B000006OTB</td>\n",
       "      <td>NaN</td>\n",
       "      <td>-0.447915</td>\n",
       "      <td>0.000000</td>\n",
       "      <td>NaN</td>\n",
       "      <td>NaN</td>\n",
       "      <td>0.000000</td>\n",
       "      <td>NaN</td>\n",
       "      <td>NaN</td>\n",
       "      <td>0.323535</td>\n",
       "      <td>NaN</td>\n",
       "      <td>...</td>\n",
       "      <td>NaN</td>\n",
       "      <td>NaN</td>\n",
       "      <td>NaN</td>\n",
       "      <td>NaN</td>\n",
       "      <td>NaN</td>\n",
       "      <td>NaN</td>\n",
       "      <td>NaN</td>\n",
       "      <td>NaN</td>\n",
       "      <td>-0.511140</td>\n",
       "      <td>0</td>\n",
       "    </tr>\n",
       "    <tr>\n",
       "      <td>B000006OWS</td>\n",
       "      <td>0.989148</td>\n",
       "      <td>-0.389798</td>\n",
       "      <td>NaN</td>\n",
       "      <td>NaN</td>\n",
       "      <td>0.569282</td>\n",
       "      <td>NaN</td>\n",
       "      <td>NaN</td>\n",
       "      <td>0.779153</td>\n",
       "      <td>-0.374368</td>\n",
       "      <td>NaN</td>\n",
       "      <td>...</td>\n",
       "      <td>NaN</td>\n",
       "      <td>NaN</td>\n",
       "      <td>NaN</td>\n",
       "      <td>NaN</td>\n",
       "      <td>NaN</td>\n",
       "      <td>NaN</td>\n",
       "      <td>NaN</td>\n",
       "      <td>NaN</td>\n",
       "      <td>0.654448</td>\n",
       "      <td>0</td>\n",
       "    </tr>\n",
       "  </tbody>\n",
       "</table>\n",
       "<p>5 rows × 108 columns</p>\n",
       "</div>"
      ],
      "text/plain": [
       "                 new  different       old     older  original      real  \\\n",
       "asin                                                                      \n",
       "0700026657  0.365330  -0.405892 -0.372278       NaN       NaN -0.380437   \n",
       "1616616873  0.710812        NaN -0.539911       NaN       NaN -0.853276   \n",
       "B000003SQQ  0.414180        NaN  0.000000  0.771995  0.490134       NaN   \n",
       "B000006OTB       NaN  -0.447915  0.000000       NaN       NaN  0.000000   \n",
       "B000006OWS  0.989148  -0.389798       NaN       NaN  0.569282       NaN   \n",
       "\n",
       "            realistic   classic      easy  mini  ...  nintendo  gba  \\\n",
       "asin                                             ...                  \n",
       "0700026657        NaN       NaN  0.706482   NaN  ...       NaN  NaN   \n",
       "1616616873        NaN       NaN       NaN   NaN  ...       NaN  NaN   \n",
       "B000003SQQ        NaN       NaN  0.812955   NaN  ... -0.465283  NaN   \n",
       "B000006OTB        NaN       NaN  0.323535   NaN  ...       NaN  NaN   \n",
       "B000006OWS        NaN  0.779153 -0.374368   NaN  ...       NaN  NaN   \n",
       "\n",
       "            god of war  zelda  mech  sonic  golden sun  pokemon  true_price  \\\n",
       "asin                                                                          \n",
       "0700026657         NaN    NaN   NaN    NaN         NaN      NaN   -0.654826   \n",
       "1616616873         NaN    NaN   NaN    NaN         NaN      NaN   -0.383553   \n",
       "B000003SQQ         NaN    NaN   NaN    NaN         NaN      NaN    6.747643   \n",
       "B000006OTB         NaN    NaN   NaN    NaN         NaN      NaN   -0.511140   \n",
       "B000006OWS         NaN    NaN   NaN    NaN         NaN      NaN    0.654448   \n",
       "\n",
       "            rating  \n",
       "asin                \n",
       "0700026657       0  \n",
       "1616616873       1  \n",
       "B000003SQQ       0  \n",
       "B000006OTB       0  \n",
       "B000006OWS       0  \n",
       "\n",
       "[5 rows x 108 columns]"
      ]
     },
     "execution_count": 6,
     "metadata": {},
     "output_type": "execute_result"
    }
   ],
   "source": [
    "# cut reviews into 2 bins\n",
    "data_ml = data.copy().set_index('asin')\n",
    "data_ml['rating'] = np.where(data_ml['overall']>=4.4,1,0)\n",
    "data_ml.drop('overall',axis=1,inplace=True)\n",
    "data_ml.head()"
   ]
  },
  {
   "cell_type": "code",
   "execution_count": 7,
   "metadata": {},
   "outputs": [],
   "source": [
    "# add review size as variable\n",
    "ids= data_ml.index\n",
    "review_size = review_size[ids]\n",
    "review_size = (review_size - np.mean(review_size))/np.std(review_size)\n",
    "data_ml = data_ml.join(pd.DataFrame(review_size[ids],columns=['n_reviews']))\n",
    "data = data.join(pd.DataFrame(review_size[ids],columns=['n_reviews']))"
   ]
  },
  {
   "cell_type": "code",
   "execution_count": 8,
   "metadata": {},
   "outputs": [
    {
     "data": {
      "text/plain": [
       "Index(['new', 'different', 'old', 'older', 'original', 'real', 'realistic',\n",
       "       'classic', 'easy', 'mini',\n",
       "       ...\n",
       "       'gba', 'god of war', 'zelda', 'mech', 'sonic', 'golden sun', 'pokemon',\n",
       "       'true_price', 'rating', 'n_reviews'],\n",
       "      dtype='object', length=109)"
      ]
     },
     "execution_count": 8,
     "metadata": {},
     "output_type": "execute_result"
    }
   ],
   "source": [
    "data_ml.columns"
   ]
  },
  {
   "cell_type": "markdown",
   "metadata": {},
   "source": [
    "# Machine Learning"
   ]
  },
  {
   "cell_type": "markdown",
   "metadata": {},
   "source": [
    "## Feature engineering"
   ]
  },
  {
   "cell_type": "code",
   "execution_count": 11,
   "metadata": {},
   "outputs": [
    {
     "data": {
      "text/html": [
       "<div>\n",
       "<style scoped>\n",
       "    .dataframe tbody tr th:only-of-type {\n",
       "        vertical-align: middle;\n",
       "    }\n",
       "\n",
       "    .dataframe tbody tr th {\n",
       "        vertical-align: top;\n",
       "    }\n",
       "\n",
       "    .dataframe thead th {\n",
       "        text-align: right;\n",
       "    }\n",
       "</style>\n",
       "<table border=\"1\" class=\"dataframe\">\n",
       "  <thead>\n",
       "    <tr style=\"text-align: right;\">\n",
       "      <th></th>\n",
       "      <th>new</th>\n",
       "      <th>different</th>\n",
       "      <th>old</th>\n",
       "      <th>older</th>\n",
       "      <th>original</th>\n",
       "      <th>real</th>\n",
       "      <th>realistic</th>\n",
       "      <th>classic</th>\n",
       "      <th>easy</th>\n",
       "      <th>mini</th>\n",
       "      <th>...</th>\n",
       "      <th>gba</th>\n",
       "      <th>god of war</th>\n",
       "      <th>zelda</th>\n",
       "      <th>mech</th>\n",
       "      <th>sonic</th>\n",
       "      <th>golden sun</th>\n",
       "      <th>pokemon</th>\n",
       "      <th>true_price</th>\n",
       "      <th>rating</th>\n",
       "      <th>n_reviews</th>\n",
       "    </tr>\n",
       "    <tr>\n",
       "      <th>asin</th>\n",
       "      <th></th>\n",
       "      <th></th>\n",
       "      <th></th>\n",
       "      <th></th>\n",
       "      <th></th>\n",
       "      <th></th>\n",
       "      <th></th>\n",
       "      <th></th>\n",
       "      <th></th>\n",
       "      <th></th>\n",
       "      <th></th>\n",
       "      <th></th>\n",
       "      <th></th>\n",
       "      <th></th>\n",
       "      <th></th>\n",
       "      <th></th>\n",
       "      <th></th>\n",
       "      <th></th>\n",
       "      <th></th>\n",
       "      <th></th>\n",
       "      <th></th>\n",
       "    </tr>\n",
       "  </thead>\n",
       "  <tbody>\n",
       "    <tr>\n",
       "      <td>0700026657</td>\n",
       "      <td>0.365330</td>\n",
       "      <td>-0.405892</td>\n",
       "      <td>-0.372278</td>\n",
       "      <td>NaN</td>\n",
       "      <td>NaN</td>\n",
       "      <td>-0.380437</td>\n",
       "      <td>NaN</td>\n",
       "      <td>NaN</td>\n",
       "      <td>0.706482</td>\n",
       "      <td>NaN</td>\n",
       "      <td>...</td>\n",
       "      <td>NaN</td>\n",
       "      <td>NaN</td>\n",
       "      <td>NaN</td>\n",
       "      <td>NaN</td>\n",
       "      <td>NaN</td>\n",
       "      <td>NaN</td>\n",
       "      <td>NaN</td>\n",
       "      <td>-0.654826</td>\n",
       "      <td>0</td>\n",
       "      <td>0.340521</td>\n",
       "    </tr>\n",
       "    <tr>\n",
       "      <td>1616616873</td>\n",
       "      <td>0.710812</td>\n",
       "      <td>NaN</td>\n",
       "      <td>-0.539911</td>\n",
       "      <td>NaN</td>\n",
       "      <td>NaN</td>\n",
       "      <td>-0.853276</td>\n",
       "      <td>NaN</td>\n",
       "      <td>NaN</td>\n",
       "      <td>NaN</td>\n",
       "      <td>NaN</td>\n",
       "      <td>...</td>\n",
       "      <td>NaN</td>\n",
       "      <td>NaN</td>\n",
       "      <td>NaN</td>\n",
       "      <td>NaN</td>\n",
       "      <td>NaN</td>\n",
       "      <td>NaN</td>\n",
       "      <td>NaN</td>\n",
       "      <td>-0.383553</td>\n",
       "      <td>1</td>\n",
       "      <td>-0.239887</td>\n",
       "    </tr>\n",
       "    <tr>\n",
       "      <td>B000003SQQ</td>\n",
       "      <td>0.414180</td>\n",
       "      <td>NaN</td>\n",
       "      <td>0.000000</td>\n",
       "      <td>0.771995</td>\n",
       "      <td>0.490134</td>\n",
       "      <td>NaN</td>\n",
       "      <td>NaN</td>\n",
       "      <td>NaN</td>\n",
       "      <td>0.812955</td>\n",
       "      <td>NaN</td>\n",
       "      <td>...</td>\n",
       "      <td>NaN</td>\n",
       "      <td>NaN</td>\n",
       "      <td>NaN</td>\n",
       "      <td>NaN</td>\n",
       "      <td>NaN</td>\n",
       "      <td>NaN</td>\n",
       "      <td>NaN</td>\n",
       "      <td>6.747643</td>\n",
       "      <td>0</td>\n",
       "      <td>-0.180661</td>\n",
       "    </tr>\n",
       "    <tr>\n",
       "      <td>B000006OTB</td>\n",
       "      <td>NaN</td>\n",
       "      <td>-0.447915</td>\n",
       "      <td>0.000000</td>\n",
       "      <td>NaN</td>\n",
       "      <td>NaN</td>\n",
       "      <td>0.000000</td>\n",
       "      <td>NaN</td>\n",
       "      <td>NaN</td>\n",
       "      <td>0.323535</td>\n",
       "      <td>NaN</td>\n",
       "      <td>...</td>\n",
       "      <td>NaN</td>\n",
       "      <td>NaN</td>\n",
       "      <td>NaN</td>\n",
       "      <td>NaN</td>\n",
       "      <td>NaN</td>\n",
       "      <td>NaN</td>\n",
       "      <td>NaN</td>\n",
       "      <td>-0.511140</td>\n",
       "      <td>0</td>\n",
       "      <td>-0.275422</td>\n",
       "    </tr>\n",
       "    <tr>\n",
       "      <td>B000006OWS</td>\n",
       "      <td>0.989148</td>\n",
       "      <td>-0.389798</td>\n",
       "      <td>NaN</td>\n",
       "      <td>NaN</td>\n",
       "      <td>0.569282</td>\n",
       "      <td>NaN</td>\n",
       "      <td>NaN</td>\n",
       "      <td>0.779153</td>\n",
       "      <td>-0.374368</td>\n",
       "      <td>NaN</td>\n",
       "      <td>...</td>\n",
       "      <td>NaN</td>\n",
       "      <td>NaN</td>\n",
       "      <td>NaN</td>\n",
       "      <td>NaN</td>\n",
       "      <td>NaN</td>\n",
       "      <td>NaN</td>\n",
       "      <td>NaN</td>\n",
       "      <td>0.654448</td>\n",
       "      <td>0</td>\n",
       "      <td>-0.168816</td>\n",
       "    </tr>\n",
       "  </tbody>\n",
       "</table>\n",
       "<p>5 rows × 109 columns</p>\n",
       "</div>"
      ],
      "text/plain": [
       "                 new  different       old     older  original      real  \\\n",
       "asin                                                                      \n",
       "0700026657  0.365330  -0.405892 -0.372278       NaN       NaN -0.380437   \n",
       "1616616873  0.710812        NaN -0.539911       NaN       NaN -0.853276   \n",
       "B000003SQQ  0.414180        NaN  0.000000  0.771995  0.490134       NaN   \n",
       "B000006OTB       NaN  -0.447915  0.000000       NaN       NaN  0.000000   \n",
       "B000006OWS  0.989148  -0.389798       NaN       NaN  0.569282       NaN   \n",
       "\n",
       "            realistic   classic      easy  mini  ...  gba  god of war  zelda  \\\n",
       "asin                                             ...                           \n",
       "0700026657        NaN       NaN  0.706482   NaN  ...  NaN         NaN    NaN   \n",
       "1616616873        NaN       NaN       NaN   NaN  ...  NaN         NaN    NaN   \n",
       "B000003SQQ        NaN       NaN  0.812955   NaN  ...  NaN         NaN    NaN   \n",
       "B000006OTB        NaN       NaN  0.323535   NaN  ...  NaN         NaN    NaN   \n",
       "B000006OWS        NaN  0.779153 -0.374368   NaN  ...  NaN         NaN    NaN   \n",
       "\n",
       "            mech  sonic  golden sun  pokemon  true_price  rating  n_reviews  \n",
       "asin                                                                         \n",
       "0700026657   NaN    NaN         NaN      NaN   -0.654826       0   0.340521  \n",
       "1616616873   NaN    NaN         NaN      NaN   -0.383553       1  -0.239887  \n",
       "B000003SQQ   NaN    NaN         NaN      NaN    6.747643       0  -0.180661  \n",
       "B000006OTB   NaN    NaN         NaN      NaN   -0.511140       0  -0.275422  \n",
       "B000006OWS   NaN    NaN         NaN      NaN    0.654448       0  -0.168816  \n",
       "\n",
       "[5 rows x 109 columns]"
      ]
     },
     "execution_count": 11,
     "metadata": {},
     "output_type": "execute_result"
    }
   ],
   "source": [
    "data_ml.head()"
   ]
  },
  {
   "cell_type": "code",
   "execution_count": 12,
   "metadata": {},
   "outputs": [],
   "source": [
    "import pandas as pd\n",
    "import numpy as np\n",
    "import matplotlib.pyplot as plt\n",
    "import seaborn as sns\n",
    "%matplotlib inline\n",
    "\n",
    "from sklearn import tree\n",
    "from sklearn.linear_model import LogisticRegression\n",
    "from sklearn.tree import DecisionTreeClassifier\n",
    "from sklearn.ensemble import RandomForestClassifier\n",
    "from sklearn.model_selection import KFold \n",
    "from sklearn.metrics import roc_auc_score,roc_curve\n",
    "from sklearn.model_selection import train_test_split\n",
    "from sklearn.model_selection import GridSearchCV\n",
    "from sklearn.feature_selection import f_regression,f_classif,SelectKBest\n",
    "\n",
    "import statsmodels.discrete.discrete_model as sm\n",
    "import warnings\n",
    "warnings.filterwarnings(\"ignore\")\n",
    "import pickle"
   ]
  },
  {
   "cell_type": "code",
   "execution_count": 13,
   "metadata": {},
   "outputs": [],
   "source": [
    "seed=123\n",
    "np.random.seed(seed)"
   ]
  },
  {
   "cell_type": "code",
   "execution_count": 14,
   "metadata": {},
   "outputs": [],
   "source": [
    "def model_cross_validation(model,X,y,folds):\n",
    "    kfolds=len(folds)\n",
    "    train_accuracy=np.empty(kfolds)\n",
    "    validation_accuracy=np.empty(kfolds)\n",
    "    auc=np.empty(kfolds)\n",
    "    for idx in range(kfolds):\n",
    "        train,validation=folds[idx]\n",
    "        X_train2=X[train]\n",
    "        y_train2=y[train]\n",
    "        model.fit(X_train2,y_train2)\n",
    "        X_validation=X[validation]\n",
    "        y_validation=y[validation]\n",
    "        y_score = model.predict_proba(X_validation)[:,1]\n",
    "        train_accuracy[idx]=np.mean(model.predict(X_train2)==y_train2)\n",
    "        validation_accuracy[idx]=np.mean(model.predict(X_validation)==y_validation)\n",
    "        auc[idx] = roc_auc_score(y_validation, y_score)\n",
    "    return train_accuracy,validation_accuracy,auc"
   ]
  },
  {
   "cell_type": "code",
   "execution_count": 15,
   "metadata": {},
   "outputs": [],
   "source": [
    "# transform into binary\n",
    "def binary_substitude(row,sub):\n",
    "    if isinstance(sub,str):\n",
    "        if pd.isna(row[sub]):\n",
    "            return 0\n",
    "        else:\n",
    "            return 1\n",
    "    elif isinstance(sub,tuple):\n",
    "        judge = 0\n",
    "        for i in sub:\n",
    "            if not pd.isna(row[i]):\n",
    "                judge = 1\n",
    "        return judge\n",
    "\n",
    "# use mean value\n",
    "def keyword_substitude(row,sub):\n",
    "    return np.nanmean(row[list(sub)])"
   ]
  },
  {
   "cell_type": "code",
   "execution_count": 16,
   "metadata": {},
   "outputs": [],
   "source": [
    "#remove some factors\n",
    "data_ml.drop(['player'],axis=1,inplace=True)"
   ]
  },
  {
   "cell_type": "code",
   "execution_count": 17,
   "metadata": {},
   "outputs": [],
   "source": [
    "substitude = [('old','older'),('real','realistic'),('character','characters'),('control','controls'),('enemy','enemies'),\n",
    "              ('weapon','weapons'),('review','reviews'),('detail','details'),('attack','attacks'),('animation','animations'),\n",
    "              ('movie','movies'),('twist','twisted'),('moves','movement','movements'),('magic','magical'),('combo','combos'),\n",
    "              ('story','storyline','plot')]\n",
    "for sub in substitude:\n",
    "    if isinstance(sub,str):\n",
    "        column_name = 'agg_'+sub\n",
    "    elif isinstance(sub,tuple):\n",
    "        column_name = 'agg_'+sub[0]\n",
    "    data_ml[column_name] = data_ml.apply(lambda row: keyword_substitude(row,sub),axis=1)\n",
    "    if isinstance(sub,str):\n",
    "        data_ml.drop(sub,axis=1,inplace=True)\n",
    "    elif isinstance(sub,tuple):\n",
    "        for i in sub:\n",
    "            data_ml.drop(i,axis=1,inplace=True)"
   ]
  },
  {
   "cell_type": "code",
   "execution_count": 18,
   "metadata": {},
   "outputs": [],
   "source": [
    "substitude2 = ['wii','final fantasy','resident evil','sega gt','star wars','mario','madden','digimon','call of duty',\n",
    "               ('nintendo','gba'),'god of war','zelda','mech','sonic','golden sun','pokemon','xbox']\n",
    "for sub in substitude2:\n",
    "    if isinstance(sub,str):\n",
    "        column_name = 'series_'+sub\n",
    "    elif isinstance(sub,tuple):\n",
    "        column_name = 'series_'+sub[0]\n",
    "    data_ml[column_name] = data_ml.apply(lambda row: binary_substitude(row,sub),axis=1)\n",
    "    if isinstance(sub,str):\n",
    "        data_ml.drop(sub,axis=1,inplace=True)\n",
    "    elif isinstance(sub,tuple):\n",
    "        for i in sub:\n",
    "            data_ml.drop(i,axis=1,inplace=True)"
   ]
  },
  {
   "cell_type": "code",
   "execution_count": 19,
   "metadata": {},
   "outputs": [],
   "source": [
    "substitude3 = [('action','battle','fight','combat','fighting','fighter','shoot','shooting'),'adventure','rpg','strategy',\n",
    "               ('sport','sports','basketball','football','baseball','race',\"racing\",\"car\",\"wrestling\"),('puzzle','puzzles','card'),\n",
    "               ('kid','kids',\"kid's\",\"kids'\"),'multiplayer']\n",
    "for sub in substitude3:\n",
    "    if isinstance(sub,str):\n",
    "        column_name = 'type_'+sub\n",
    "    elif isinstance(sub,tuple):\n",
    "        column_name = 'type_'+sub[0]\n",
    "    data_ml[column_name] = data_ml.apply(lambda row: binary_substitude(row,sub),axis=1)\n",
    "    if isinstance(sub,str):\n",
    "        data_ml.drop(sub,axis=1,inplace=True)\n",
    "    elif isinstance(sub,tuple):\n",
    "        for i in sub:\n",
    "            data_ml.drop(i,axis=1,inplace=True)"
   ]
  },
  {
   "cell_type": "code",
   "execution_count": 21,
   "metadata": {},
   "outputs": [
    {
     "data": {
      "text/html": [
       "<div>\n",
       "<style scoped>\n",
       "    .dataframe tbody tr th:only-of-type {\n",
       "        vertical-align: middle;\n",
       "    }\n",
       "\n",
       "    .dataframe tbody tr th {\n",
       "        vertical-align: top;\n",
       "    }\n",
       "\n",
       "    .dataframe thead th {\n",
       "        text-align: right;\n",
       "    }\n",
       "</style>\n",
       "<table border=\"1\" class=\"dataframe\">\n",
       "  <thead>\n",
       "    <tr style=\"text-align: right;\">\n",
       "      <th></th>\n",
       "      <th>new</th>\n",
       "      <th>different</th>\n",
       "      <th>original</th>\n",
       "      <th>classic</th>\n",
       "      <th>easy</th>\n",
       "      <th>mini</th>\n",
       "      <th>difficulty</th>\n",
       "      <th>level</th>\n",
       "      <th>mode</th>\n",
       "      <th>graphics</th>\n",
       "      <th>...</th>\n",
       "      <th>series_pokemon</th>\n",
       "      <th>series_xbox</th>\n",
       "      <th>type_action</th>\n",
       "      <th>type_adventure</th>\n",
       "      <th>type_rpg</th>\n",
       "      <th>type_strategy</th>\n",
       "      <th>type_sport</th>\n",
       "      <th>type_puzzle</th>\n",
       "      <th>type_kid</th>\n",
       "      <th>type_multiplayer</th>\n",
       "    </tr>\n",
       "    <tr>\n",
       "      <th>asin</th>\n",
       "      <th></th>\n",
       "      <th></th>\n",
       "      <th></th>\n",
       "      <th></th>\n",
       "      <th></th>\n",
       "      <th></th>\n",
       "      <th></th>\n",
       "      <th></th>\n",
       "      <th></th>\n",
       "      <th></th>\n",
       "      <th></th>\n",
       "      <th></th>\n",
       "      <th></th>\n",
       "      <th></th>\n",
       "      <th></th>\n",
       "      <th></th>\n",
       "      <th></th>\n",
       "      <th></th>\n",
       "      <th></th>\n",
       "      <th></th>\n",
       "      <th></th>\n",
       "    </tr>\n",
       "  </thead>\n",
       "  <tbody>\n",
       "    <tr>\n",
       "      <td>0700026657</td>\n",
       "      <td>0.365330</td>\n",
       "      <td>-0.405892</td>\n",
       "      <td>0.000000</td>\n",
       "      <td>0.000000</td>\n",
       "      <td>0.706482</td>\n",
       "      <td>0.0</td>\n",
       "      <td>0.0</td>\n",
       "      <td>-0.337928</td>\n",
       "      <td>-0.74645</td>\n",
       "      <td>0.460396</td>\n",
       "      <td>...</td>\n",
       "      <td>0</td>\n",
       "      <td>0</td>\n",
       "      <td>1</td>\n",
       "      <td>0</td>\n",
       "      <td>0</td>\n",
       "      <td>0</td>\n",
       "      <td>0</td>\n",
       "      <td>0</td>\n",
       "      <td>0</td>\n",
       "      <td>1</td>\n",
       "    </tr>\n",
       "    <tr>\n",
       "      <td>1616616873</td>\n",
       "      <td>0.710812</td>\n",
       "      <td>0.000000</td>\n",
       "      <td>0.000000</td>\n",
       "      <td>0.000000</td>\n",
       "      <td>0.000000</td>\n",
       "      <td>0.0</td>\n",
       "      <td>0.0</td>\n",
       "      <td>0.000000</td>\n",
       "      <td>0.00000</td>\n",
       "      <td>0.000000</td>\n",
       "      <td>...</td>\n",
       "      <td>0</td>\n",
       "      <td>0</td>\n",
       "      <td>1</td>\n",
       "      <td>0</td>\n",
       "      <td>0</td>\n",
       "      <td>0</td>\n",
       "      <td>0</td>\n",
       "      <td>0</td>\n",
       "      <td>0</td>\n",
       "      <td>0</td>\n",
       "    </tr>\n",
       "    <tr>\n",
       "      <td>B000003SQQ</td>\n",
       "      <td>0.414180</td>\n",
       "      <td>0.000000</td>\n",
       "      <td>0.490134</td>\n",
       "      <td>0.000000</td>\n",
       "      <td>0.812955</td>\n",
       "      <td>0.0</td>\n",
       "      <td>0.0</td>\n",
       "      <td>0.829781</td>\n",
       "      <td>0.00000</td>\n",
       "      <td>0.555355</td>\n",
       "      <td>...</td>\n",
       "      <td>0</td>\n",
       "      <td>0</td>\n",
       "      <td>1</td>\n",
       "      <td>0</td>\n",
       "      <td>0</td>\n",
       "      <td>1</td>\n",
       "      <td>0</td>\n",
       "      <td>0</td>\n",
       "      <td>1</td>\n",
       "      <td>0</td>\n",
       "    </tr>\n",
       "    <tr>\n",
       "      <td>B000006OTB</td>\n",
       "      <td>0.000000</td>\n",
       "      <td>-0.447915</td>\n",
       "      <td>0.000000</td>\n",
       "      <td>0.000000</td>\n",
       "      <td>0.323535</td>\n",
       "      <td>0.0</td>\n",
       "      <td>0.0</td>\n",
       "      <td>-0.943968</td>\n",
       "      <td>0.00000</td>\n",
       "      <td>0.581704</td>\n",
       "      <td>...</td>\n",
       "      <td>0</td>\n",
       "      <td>0</td>\n",
       "      <td>1</td>\n",
       "      <td>0</td>\n",
       "      <td>0</td>\n",
       "      <td>0</td>\n",
       "      <td>0</td>\n",
       "      <td>0</td>\n",
       "      <td>1</td>\n",
       "      <td>0</td>\n",
       "    </tr>\n",
       "    <tr>\n",
       "      <td>B000006OWS</td>\n",
       "      <td>0.989148</td>\n",
       "      <td>-0.389798</td>\n",
       "      <td>0.569282</td>\n",
       "      <td>0.779153</td>\n",
       "      <td>-0.374368</td>\n",
       "      <td>0.0</td>\n",
       "      <td>0.0</td>\n",
       "      <td>0.000000</td>\n",
       "      <td>0.00000</td>\n",
       "      <td>0.609479</td>\n",
       "      <td>...</td>\n",
       "      <td>0</td>\n",
       "      <td>0</td>\n",
       "      <td>0</td>\n",
       "      <td>1</td>\n",
       "      <td>0</td>\n",
       "      <td>1</td>\n",
       "      <td>0</td>\n",
       "      <td>1</td>\n",
       "      <td>1</td>\n",
       "      <td>0</td>\n",
       "    </tr>\n",
       "  </tbody>\n",
       "</table>\n",
       "<p>5 rows × 69 columns</p>\n",
       "</div>"
      ],
      "text/plain": [
       "                 new  different  original   classic      easy  mini  \\\n",
       "asin                                                                  \n",
       "0700026657  0.365330  -0.405892  0.000000  0.000000  0.706482   0.0   \n",
       "1616616873  0.710812   0.000000  0.000000  0.000000  0.000000   0.0   \n",
       "B000003SQQ  0.414180   0.000000  0.490134  0.000000  0.812955   0.0   \n",
       "B000006OTB  0.000000  -0.447915  0.000000  0.000000  0.323535   0.0   \n",
       "B000006OWS  0.989148  -0.389798  0.569282  0.779153 -0.374368   0.0   \n",
       "\n",
       "            difficulty     level     mode  graphics  ...  series_pokemon  \\\n",
       "asin                                                 ...                   \n",
       "0700026657         0.0 -0.337928 -0.74645  0.460396  ...               0   \n",
       "1616616873         0.0  0.000000  0.00000  0.000000  ...               0   \n",
       "B000003SQQ         0.0  0.829781  0.00000  0.555355  ...               0   \n",
       "B000006OTB         0.0 -0.943968  0.00000  0.581704  ...               0   \n",
       "B000006OWS         0.0  0.000000  0.00000  0.609479  ...               0   \n",
       "\n",
       "            series_xbox  type_action  type_adventure  type_rpg  type_strategy  \\\n",
       "asin                                                                            \n",
       "0700026657            0            1               0         0              0   \n",
       "1616616873            0            1               0         0              0   \n",
       "B000003SQQ            0            1               0         0              1   \n",
       "B000006OTB            0            1               0         0              0   \n",
       "B000006OWS            0            0               1         0              1   \n",
       "\n",
       "            type_sport  type_puzzle  type_kid  type_multiplayer  \n",
       "asin                                                             \n",
       "0700026657           0            0         0                 1  \n",
       "1616616873           0            0         0                 0  \n",
       "B000003SQQ           0            0         1                 0  \n",
       "B000006OTB           0            0         1                 0  \n",
       "B000006OWS           0            1         1                 0  \n",
       "\n",
       "[5 rows x 69 columns]"
      ]
     },
     "execution_count": 21,
     "metadata": {},
     "output_type": "execute_result"
    }
   ],
   "source": [
    "data_ml.fillna(0,inplace=True)\n",
    "data_ml.head()"
   ]
  },
  {
   "cell_type": "code",
   "execution_count": 23,
   "metadata": {},
   "outputs": [
    {
     "data": {
      "text/plain": [
       "((2124, 69), (709, 69))"
      ]
     },
     "execution_count": 23,
     "metadata": {},
     "output_type": "execute_result"
    }
   ],
   "source": [
    "### Train-test set split\n",
    "train,test = train_test_split(data_ml,test_size=0.25,shuffle=True)\n",
    "train.shape,test.shape  # Too many features compared to the sample size"
   ]
  },
  {
   "cell_type": "code",
   "execution_count": 24,
   "metadata": {},
   "outputs": [
    {
     "data": {
      "text/plain": [
       "((2124, 69), (709, 69))"
      ]
     },
     "execution_count": 24,
     "metadata": {},
     "output_type": "execute_result"
    }
   ],
   "source": [
    "train.shape,test.shape"
   ]
  },
  {
   "cell_type": "markdown",
   "metadata": {},
   "source": [
    "## Resample"
   ]
  },
  {
   "cell_type": "code",
   "execution_count": 25,
   "metadata": {},
   "outputs": [
    {
     "data": {
      "text/plain": [
       "((2124, 68), (709, 68))"
      ]
     },
     "execution_count": 25,
     "metadata": {},
     "output_type": "execute_result"
    }
   ],
   "source": [
    "x_train = train.drop('rating',axis=1,inplace=False).values\n",
    "y_train = train['rating'].values\n",
    "x_test = test.drop('rating',axis=1,inplace=False).values\n",
    "y_test = test['rating'].values\n",
    "names = train.drop('rating',axis=1,inplace=False).columns\n",
    "x_train.shape,x_test.shape"
   ]
  },
  {
   "cell_type": "code",
   "execution_count": 26,
   "metadata": {},
   "outputs": [],
   "source": [
    "# from imblearn.over_sampling import SMOTE\n",
    "# smote = SMOTE(0.5,random_state=2)\n",
    "# x_train, y_train = smote.fit_sample(x_train, y_train)"
   ]
  },
  {
   "cell_type": "code",
   "execution_count": 27,
   "metadata": {},
   "outputs": [],
   "source": [
    "from imblearn.under_sampling import RandomUnderSampler\n",
    "rus = RandomUnderSampler(0.5)\n",
    "x_train, y_train = rus.fit_sample(x_train, y_train)"
   ]
  },
  {
   "cell_type": "code",
   "execution_count": 28,
   "metadata": {},
   "outputs": [
    {
     "data": {
      "text/plain": [
       "((1983, 68), 1322, 661)"
      ]
     },
     "execution_count": 28,
     "metadata": {},
     "output_type": "execute_result"
    }
   ],
   "source": [
    "x_train.shape,sum(y_train==0),sum(y_train==1)"
   ]
  },
  {
   "cell_type": "code",
   "execution_count": 29,
   "metadata": {},
   "outputs": [],
   "source": [
    "### K-folds\n",
    "kf=KFold(5,shuffle=True)     \n",
    "folds=list(kf.split(x_train))"
   ]
  },
  {
   "cell_type": "markdown",
   "metadata": {},
   "source": [
    "## Feature Selection Based on Importance"
   ]
  },
  {
   "cell_type": "code",
   "execution_count": 30,
   "metadata": {},
   "outputs": [],
   "source": [
    "x_train_df = pd.DataFrame(x_train,columns=names)\n",
    "\n",
    "def simple_feature_importance(X, y, model='reg'):\n",
    "    score_func = {'reg': f_regression,\n",
    "                  'clas': f_classif}\n",
    "    # Score each of the features\n",
    "    bestfeatures = SelectKBest(score_func=score_func[model], k='all')\n",
    "    fit = bestfeatures.fit(X, y)\n",
    "    # Organize and return the scores\n",
    "    featureScores = pd.DataFrame([X.columns, fit.scores_]).T\n",
    "    featureScores.columns = ['Feature', 'Score']\n",
    "    return featureScores.sort_values('Score', ascending=False).set_index('Feature')\n",
    "\n",
    "### Try to get a threshold based on p-values\n",
    "feature_names = list(x_train_df.columns)\n",
    "\n",
    "def f_test(x, y, feature_names, p_cutoff = 0.05):\n",
    "\n",
    "    from sklearn.feature_selection import f_regression\n",
    "    num_features = len(feature_names)\n",
    "    raw_scores, p_values = f_regression(x, y)\n",
    "    scores = np.zeros(num_features)\n",
    "\n",
    "    #just keep non statistically significant scores at 0\n",
    "    for i in range(num_features):\n",
    "        if (p_values[i] < p_cutoff):\n",
    "            scores[i] = raw_scores[i]\n",
    "    return dict(zip(feature_names,scores))"
   ]
  },
  {
   "cell_type": "code",
   "execution_count": 31,
   "metadata": {},
   "outputs": [],
   "source": [
    "score_data = f_test(x_train_df, y_train, feature_names, p_cutoff = 0.1)\n",
    "score_data = {key:val for key, val in score_data.items() if val != 0}"
   ]
  },
  {
   "cell_type": "code",
   "execution_count": 32,
   "metadata": {},
   "outputs": [],
   "source": [
    "importance_scores = simple_feature_importance(x_train_df, y_train, model='clas')\n",
    "importance_scores = importance_scores[importance_scores['Score']>=min(score_data.values())]\n",
    "keyword_importance = list(importance_scores.index)"
   ]
  },
  {
   "cell_type": "code",
   "execution_count": 33,
   "metadata": {},
   "outputs": [
    {
     "data": {
      "text/plain": [
       "['level', 'new', 'gameplay', 'graphics', 'difficulty']"
      ]
     },
     "execution_count": 33,
     "metadata": {},
     "output_type": "execute_result"
    }
   ],
   "source": [
    "# Get the remaining variables (need to excl. rating to get all IVs.)\n",
    "keyword_importance[:5]"
   ]
  },
  {
   "cell_type": "code",
   "execution_count": 34,
   "metadata": {},
   "outputs": [
    {
     "data": {
      "text/plain": [
       "((1983, 49), (709, 49))"
      ]
     },
     "execution_count": 34,
     "metadata": {},
     "output_type": "execute_result"
    }
   ],
   "source": [
    "names2 = keyword_importance\n",
    "x_train2 = x_train_df[names2].values\n",
    "x_test2 = test[names2].values\n",
    "x_train2.shape,x_test2.shape"
   ]
  },
  {
   "cell_type": "markdown",
   "metadata": {},
   "source": [
    "## Feature Selection - rfe"
   ]
  },
  {
   "cell_type": "code",
   "execution_count": 35,
   "metadata": {},
   "outputs": [
    {
     "name": "stdout",
     "output_type": "stream",
     "text": [
      "['series_sega gt', 'series_digimon', 'series_god of war', 'series_mech', 'series_golden sun']\n"
     ]
    },
    {
     "data": {
      "text/plain": [
       "Index(['new', 'different', 'original', 'classic', 'easy', 'mini', 'difficulty',\n",
       "       'level', 'mode', 'graphics', 'gameplay', 'series', 'look', 'mission',\n",
       "       'quality', 'team', 'boss', 'sound', 'music', 'style', 'monster',\n",
       "       'voice', 'camera', 'price', 'scenes', 'true_price', 'n_reviews',\n",
       "       'agg_old', 'agg_real', 'agg_character', 'agg_control', 'agg_enemy',\n",
       "       'agg_weapon', 'agg_review', 'agg_detail', 'agg_attack', 'agg_animation',\n",
       "       'agg_movie', 'agg_twist', 'agg_moves', 'agg_magic', 'agg_combo',\n",
       "       'agg_story', 'series_wii', 'series_final fantasy',\n",
       "       'series_resident evil', 'series_star wars', 'series_mario',\n",
       "       'series_madden', 'series_call of duty', 'series_nintendo',\n",
       "       'series_zelda', 'series_sonic', 'series_pokemon', 'series_xbox',\n",
       "       'type_action', 'type_adventure', 'type_rpg', 'type_strategy',\n",
       "       'type_sport', 'type_puzzle', 'type_kid', 'type_multiplayer'],\n",
       "      dtype='object')"
      ]
     },
     "execution_count": 35,
     "metadata": {},
     "output_type": "execute_result"
    }
   ],
   "source": [
    "x_train3 = pd.DataFrame(x_train,columns=names)\n",
    "x_test3 = pd.DataFrame(x_train,columns=names)\n",
    "names3 = names\n",
    "\n",
    "# make a threshold for quasi constant.\n",
    "threshold = 0.98\n",
    "\n",
    "# create empty list\n",
    "quasi_constant_feature = []\n",
    "\n",
    "# loop over all the columns\n",
    "for feature in x_train3.columns:\n",
    "\n",
    "    # calculate the ratio.\n",
    "    predominant = (x_train3[feature].value_counts() / np.float(len(x_train3))).sort_values(ascending=False).values[0]\n",
    "    \n",
    "    # append the column name if it is bigger than the threshold\n",
    "    if predominant >= threshold:\n",
    "        quasi_constant_feature.append(feature)   \n",
    "        \n",
    "print(quasi_constant_feature)\n",
    "\n",
    "# drop the quasi constant columns\n",
    "x_train3.drop(labels=quasi_constant_feature, axis=1,inplace=True)\n",
    "x_test3.drop(labels=quasi_constant_feature, axis=1,inplace=True)\n",
    "names3.drop(labels=quasi_constant_feature)"
   ]
  },
  {
   "cell_type": "code",
   "execution_count": 36,
   "metadata": {},
   "outputs": [
    {
     "name": "stdout",
     "output_type": "stream",
     "text": [
      "Index(['new', 'different', 'original', 'classic', 'easy', 'mini', 'difficulty',\n",
      "       'level', 'mode', 'graphics', 'gameplay', 'series', 'look', 'mission',\n",
      "       'quality', 'team', 'boss', 'sound', 'music', 'style', 'monster',\n",
      "       'voice', 'camera', 'price', 'scenes', 'true_price', 'n_reviews',\n",
      "       'agg_old', 'agg_real', 'agg_character', 'agg_control', 'agg_enemy',\n",
      "       'agg_weapon', 'agg_review', 'agg_detail', 'agg_attack', 'agg_animation',\n",
      "       'agg_movie', 'agg_twist', 'agg_moves', 'agg_magic', 'agg_combo',\n",
      "       'agg_story', 'series_wii', 'series_nintendo', 'series_xbox',\n",
      "       'type_action', 'type_adventure', 'type_sport', 'type_puzzle',\n",
      "       'type_kid'],\n",
      "      dtype='object')\n"
     ]
    }
   ],
   "source": [
    "from sklearn.feature_selection import RFECV\n",
    "\n",
    "from sklearn.ensemble import RandomForestClassifier\n",
    "\n",
    "model = RandomForestClassifier(n_estimators=30)\n",
    "\n",
    "# build the RFE with CV option.\n",
    "rfe = RFECV(model, min_features_to_select = 3, step = 1 , cv=5, scoring='accuracy')\n",
    "\n",
    "# fit the RFE to our data.\n",
    "selection  = rfe.fit(x_train3, y_train)\n",
    "\n",
    "# print the selected features.\n",
    "print(x_train3.columns[selection.support_])"
   ]
  },
  {
   "cell_type": "code",
   "execution_count": 37,
   "metadata": {},
   "outputs": [
    {
     "data": {
      "text/plain": [
       "((1983, 51), (1983, 51))"
      ]
     },
     "execution_count": 37,
     "metadata": {},
     "output_type": "execute_result"
    }
   ],
   "source": [
    "names3 = x_train3.columns[selection.support_]\n",
    "x_train3 = x_train3[names3].values\n",
    "x_test3 = x_test3[names3].values\n",
    "x_train3.shape,x_test3.shape"
   ]
  },
  {
   "cell_type": "markdown",
   "metadata": {},
   "source": [
    "## Random forest - feature selection"
   ]
  },
  {
   "cell_type": "code",
   "execution_count": 38,
   "metadata": {},
   "outputs": [
    {
     "data": {
      "text/plain": [
       "{'max_depth': 9, 'min_samples_split': 30, 'n_estimators': 25}"
      ]
     },
     "execution_count": 38,
     "metadata": {},
     "output_type": "execute_result"
    }
   ],
   "source": [
    "### Random Forest - grid serach\n",
    "parameters = {\n",
    "     'n_estimators':range(5,30,5),\n",
    "     'max_depth': range(1,10,1),\n",
    "     'min_samples_split': range(10,100,20),\n",
    "}\n",
    "model_RF = GridSearchCV(RandomForestClassifier(),parameters,cv=5)\n",
    "model_RF.fit(x_train,y_train)\n",
    "best_C_RF = model_RF.best_params_\n",
    "best_C_RF"
   ]
  },
  {
   "cell_type": "code",
   "execution_count": 39,
   "metadata": {},
   "outputs": [
    {
     "data": {
      "text/plain": [
       "{'max_depth': 8, 'min_samples_split': 10, 'n_estimators': 20}"
      ]
     },
     "execution_count": 39,
     "metadata": {},
     "output_type": "execute_result"
    }
   ],
   "source": [
    "### Random Forest - grid serach (feature importance)\n",
    "model_RF2 = GridSearchCV(RandomForestClassifier(),parameters,cv=5)\n",
    "model_RF2.fit(x_train2,y_train)\n",
    "best_C_RF2 = model_RF2.best_params_\n",
    "best_C_RF2"
   ]
  },
  {
   "cell_type": "code",
   "execution_count": 40,
   "metadata": {},
   "outputs": [
    {
     "data": {
      "text/plain": [
       "{'max_depth': 9, 'min_samples_split': 70, 'n_estimators': 15}"
      ]
     },
     "execution_count": 40,
     "metadata": {},
     "output_type": "execute_result"
    }
   ],
   "source": [
    "### Random Forest - grid serach (rfe)\n",
    "model_RF3 = GridSearchCV(RandomForestClassifier(),parameters,cv=5)\n",
    "model_RF3.fit(x_train3,y_train)\n",
    "best_C_RF3 = model_RF3.best_params_\n",
    "best_C_RF3"
   ]
  },
  {
   "cell_type": "code",
   "execution_count": 41,
   "metadata": {},
   "outputs": [],
   "source": [
    "# conclude\n",
    "best_RF = RandomForestClassifier(     \n",
    "    n_estimators=best_C_RF['n_estimators'],\n",
    "     max_depth= best_C_RF['max_depth'],\n",
    "     min_samples_split= best_C_RF['min_samples_split'])\n",
    "best_RF2 = RandomForestClassifier(     \n",
    "    n_estimators=best_C_RF2['n_estimators'],\n",
    "     max_depth= best_C_RF2['max_depth'],\n",
    "     min_samples_split= best_C_RF2['min_samples_split'])\n",
    "best_RF3 = RandomForestClassifier(     \n",
    "    n_estimators=best_C_RF3['n_estimators'],\n",
    "     max_depth= best_C_RF3['max_depth'],\n",
    "     min_samples_split= best_C_RF3['min_samples_split'])\n",
    "models = [best_RF,best_RF2,best_RF3]\n",
    "\n",
    "columns=['RF','RF-feature importance','RF-rfe']\n",
    "vacc = pd.DataFrame(columns=columns)\n",
    "auc = pd.DataFrame(columns=columns)\n",
    "train_accuracy,validation_accuracy,auc_ = model_cross_validation(models[0],x_train,y_train,folds)\n",
    "vacc[columns[0]]= validation_accuracy\n",
    "auc[columns[0]] = auc_\n",
    "train_accuracy2,validation_accuracy2,auc_2 = model_cross_validation(models[1],x_train2,y_train,folds)\n",
    "vacc[columns[1]]= validation_accuracy2\n",
    "auc[columns[1]] = auc_2\n",
    "train_accuracy3,validation_accuracy3,auc_3 = model_cross_validation(models[2],x_train3,y_train,folds)\n",
    "vacc[columns[2]]= validation_accuracy3\n",
    "auc[columns[2]] = auc_3"
   ]
  },
  {
   "cell_type": "code",
   "execution_count": 42,
   "metadata": {},
   "outputs": [
    {
     "data": {
      "text/plain": [
       "Text(0, 0.5, 'AUC')"
      ]
     },
     "execution_count": 42,
     "metadata": {},
     "output_type": "execute_result"
    },
    {
     "data": {
      "image/png": "[encoded data removed]",
      "text/plain": [
       "<Figure size 864x432 with 2 Axes>"
      ]
     },
     "metadata": {
      "needs_background": "light"
     },
     "output_type": "display_data"
    }
   ],
   "source": [
    "fig,axes = plt.subplots(1,2,figsize=(12,6),sharey=True)\n",
    "vacc.boxplot(ax=axes[0])\n",
    "auc.boxplot(ax=axes[1])\n",
    "axes[0].set_ylabel('Accuracy')\n",
    "axes[1].set_ylabel('AUC')"
   ]
  },
  {
   "cell_type": "markdown",
   "metadata": {},
   "source": [
    "# Interpretation"
   ]
  },
  {
   "cell_type": "code",
   "execution_count": 88,
   "metadata": {},
   "outputs": [],
   "source": [
    "rf = best_RF.fit(x_train,y_train)"
   ]
  },
  {
   "cell_type": "code",
   "execution_count": 89,
   "metadata": {
    "scrolled": false
   },
   "outputs": [
    {
     "data": {
      "image/png": "[encoded data removed]",
      "text/plain": [
       "<Figure size 864x1296 with 1 Axes>"
      ]
     },
     "metadata": {
      "needs_background": "light"
     },
     "output_type": "display_data"
    }
   ],
   "source": [
    "from sklearn.inspection import permutation_importance\n",
    "\n",
    "result = permutation_importance(rf, x_test, y_test, n_repeats=10,\n",
    "                                random_state=42, n_jobs=2)\n",
    "sorted_idx = result.importances_mean.argsort()\n",
    "\n",
    "fig,ax= plt.subplots(1,1,figsize=(12,18))\n",
    "ax.boxplot(result.importances[sorted_idx].T,\n",
    "           vert=False, labels=names[sorted_idx])\n",
    "ax.set_title(\"Permutation Importances (test set)\")\n",
    "fig.tight_layout()\n",
    "plt.show()"
   ]
  }
 ],
 "metadata": {
  "kernelspec": {
   "display_name": "Python 3",
   "language": "python",
   "name": "python3"
  },
  "language_info": {
   "codemirror_mode": {
    "name": "ipython",
    "version": 3
   },
   "file_extension": ".py",
   "mimetype": "text/x-python",
   "name": "python",
   "nbconvert_exporter": "python",
   "pygments_lexer": "ipython3",
   "version": "3.7.4"
  }
 },
 "nbformat": 4,
 "nbformat_minor": 2
}
